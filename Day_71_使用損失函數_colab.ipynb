{
  "cells": [
    {
      "cell_type": "markdown",
      "metadata": {
        "id": "nwsimYuy4h5f"
      },
      "source": [
        "# 課程目標\n",
        "\n",
        "利用Keras 的 CIFAR10 dataset 來驗證損失函數對於模型精確度的影響"
      ]
    },
    {
      "cell_type": "markdown",
      "metadata": {
        "id": "b-O3cpMq4h5x"
      },
      "source": [
        "# 範例重點: \n",
        "    \n",
        "    模型架構的層數\n",
        "    \n",
        "    使用何種LOSS function"
      ]
    },
    {
      "cell_type": "code",
      "execution_count": 2,
      "metadata": {
        "id": "IzAG9Lsm4h5y"
      },
      "outputs": [],
      "source": [
        "#!pip install --user --upgrade jupyter"
      ]
    },
    {
      "cell_type": "code",
      "execution_count": 3,
      "metadata": {
        "id": "ROeos2v-4h5z"
      },
      "outputs": [],
      "source": [
        "#!pip install --user --upgrade notebook"
      ]
    },
    {
      "cell_type": "code",
      "execution_count": 4,
      "metadata": {
        "id": "smY6EnRE4h5z"
      },
      "outputs": [],
      "source": [
        "#pip install pandas"
      ]
    },
    {
      "cell_type": "code",
      "execution_count": 5,
      "metadata": {
        "id": "nBWncPeD4h50"
      },
      "outputs": [],
      "source": [
        "#pip install numpy"
      ]
    },
    {
      "cell_type": "code",
      "execution_count": 6,
      "metadata": {
        "id": "xNFOgTvT4h51"
      },
      "outputs": [],
      "source": [
        "import numpy\n",
        "import pandas"
      ]
    },
    {
      "cell_type": "code",
      "execution_count": 7,
      "metadata": {
        "id": "NtIZ2MIN4h51"
      },
      "outputs": [],
      "source": [
        "#pip install tensorflow-gpu "
      ]
    },
    {
      "cell_type": "code",
      "execution_count": 8,
      "metadata": {
        "id": "VBjIRocX4h51"
      },
      "outputs": [],
      "source": [
        "#pip install keras"
      ]
    },
    {
      "cell_type": "code",
      "execution_count": 9,
      "metadata": {
        "colab": {
          "base_uri": "https://localhost:8080/"
        },
        "id": "7FHaFpVN4h52",
        "outputId": "1035a6f4-4791-4bf1-ecbd-74f6c92397dc"
      },
      "outputs": [
        {
          "output_type": "stream",
          "name": "stdout",
          "text": [
            "Tensorflow版本為: 2.8.2\n",
            "Keras版本為: 2.8.0\n",
            "檢查Tensorflow-GPU是否啟用: []\n"
          ]
        }
      ],
      "source": [
        "import tensorflow as tf\n",
        "import keras\n",
        "print(\"Tensorflow版本為:\",tf.__version__)\n",
        "print(\"Keras版本為:\",keras.__version__)\n",
        "print(\"檢查Tensorflow-GPU是否啟用:\",tf.config.list_physical_devices('GPU'))"
      ]
    },
    {
      "cell_type": "markdown",
      "metadata": {
        "id": "bdJB-qYb4h54"
      },
      "source": [
        "# 導入必要的libray"
      ]
    },
    {
      "cell_type": "code",
      "execution_count": 10,
      "metadata": {
        "id": "ijND_pYm4h54"
      },
      "outputs": [],
      "source": [
        "\n",
        "from keras.datasets import cifar10\n",
        "import numpy as np\n",
        "np.random.seed(10)\n",
        "#np.random.seed(10)的作用：使得隨機數據可預測"
      ]
    },
    {
      "cell_type": "markdown",
      "metadata": {
        "id": "spsciMGs4h55"
      },
      "source": [
        "# 資料準備"
      ]
    },
    {
      "cell_type": "code",
      "execution_count": 11,
      "metadata": {
        "colab": {
          "base_uri": "https://localhost:8080/"
        },
        "id": "3XFGBDZc4h55",
        "outputId": "6be3e1b0-f09e-4f00-9834-afa92e5c2c9f"
      },
      "outputs": [
        {
          "output_type": "stream",
          "name": "stdout",
          "text": [
            "Downloading data from https://www.cs.toronto.edu/~kriz/cifar-10-python.tar.gz\n",
            "170500096/170498071 [==============================] - 4s 0us/step\n",
            "170508288/170498071 [==============================] - 4s 0us/step\n"
          ]
        }
      ],
      "source": [
        "#取得Keras CIFAR10 Dataset, 並分成Training 與 Test set\n",
        "(x_img_train,y_label_train),(x_img_test,y_label_test)=cifar10.load_data()"
      ]
    },
    {
      "cell_type": "code",
      "execution_count": 12,
      "metadata": {
        "colab": {
          "base_uri": "https://localhost:8080/"
        },
        "id": "GduF8VZL4h56",
        "outputId": "06618ec0-87fb-445c-d218-d50584b87a1d"
      },
      "outputs": [
        {
          "output_type": "stream",
          "name": "stdout",
          "text": [
            "train data: images: (50000, 32, 32, 3)  labels: (50000, 1)\n",
            "test  data: images: (10000, 32, 32, 3)  labels: (10000, 1)\n"
          ]
        }
      ],
      "source": [
        "#確認 CIFAR10 Dataset 資料維度\n",
        "print(\"train data:\",'images:',x_img_train.shape,\n",
        "      \" labels:\",y_label_train.shape) \n",
        "print(\"test  data:\",'images:',x_img_test.shape ,\n",
        "      \" labels:\",y_label_test.shape) "
      ]
    },
    {
      "cell_type": "code",
      "execution_count": 13,
      "metadata": {
        "id": "o3qGt-z04h56"
      },
      "outputs": [],
      "source": [
        "#資料正規化, 並設定 data array 為浮點數\n",
        "x_img_train_normalize = x_img_train.astype('float32') / 255.0\n",
        "x_img_test_normalize = x_img_test.astype('float32') / 255.0"
      ]
    },
    {
      "cell_type": "code",
      "execution_count": 14,
      "metadata": {
        "colab": {
          "base_uri": "https://localhost:8080/"
        },
        "id": "fy204vKN4h57",
        "outputId": "8b47a741-0d83-489d-fb20-d3026d1b6334"
      },
      "outputs": [
        {
          "output_type": "execute_result",
          "data": {
            "text/plain": [
              "(10000, 10)"
            ]
          },
          "metadata": {},
          "execution_count": 14
        }
      ],
      "source": [
        "#針對Label 做 ONE HOT ENCODE, 並查看維度資訊\n",
        "from keras.utils import np_utils\n",
        "y_label_train_OneHot = np_utils.to_categorical(y_label_train)\n",
        "y_label_test_OneHot = np_utils.to_categorical(y_label_test)\n",
        "y_label_test_OneHot.shape"
      ]
    },
    {
      "cell_type": "markdown",
      "metadata": {
        "id": "sH0e5x944h58"
      },
      "source": [
        "# 建立模型"
      ]
    },
    {
      "cell_type": "code",
      "execution_count": 15,
      "metadata": {
        "id": "MEUkkov04h58"
      },
      "outputs": [],
      "source": [
        "from keras.models import Sequential\n",
        "from keras.layers import Dense, Dropout, Activation, Flatten\n",
        "from keras.layers import Conv2D, MaxPooling2D, ZeroPadding2D"
      ]
    },
    {
      "cell_type": "code",
      "execution_count": 16,
      "metadata": {
        "id": "oY_BYQTd4h59"
      },
      "outputs": [],
      "source": [
        "# 宣告採用序列模型\n",
        "model = Sequential()"
      ]
    },
    {
      "cell_type": "code",
      "execution_count": 17,
      "metadata": {
        "id": "Y6d45msC4h59"
      },
      "outputs": [],
      "source": [
        "#卷積層1與池化層1"
      ]
    },
    {
      "cell_type": "code",
      "execution_count": 18,
      "metadata": {
        "id": "0MZc45Rw4h5-"
      },
      "outputs": [],
      "source": [
        "model.add(Conv2D(filters=32,kernel_size=(3,3),\n",
        "                 input_shape=(32, 32,3), \n",
        "                 activation='relu', \n",
        "                 padding='same'))\n",
        "model.add(MaxPooling2D(pool_size=(2, 2)))"
      ]
    },
    {
      "cell_type": "code",
      "execution_count": 19,
      "metadata": {
        "id": "INigq90A4h5-"
      },
      "outputs": [],
      "source": [
        "#卷積層2與池化層2"
      ]
    },
    {
      "cell_type": "code",
      "execution_count": 20,
      "metadata": {
        "id": "0XyefQCP4h5_"
      },
      "outputs": [],
      "source": [
        "model.add(Conv2D(filters=64, kernel_size=(3, 3), \n",
        "                 activation='relu', padding='same'))\n",
        "model.add(MaxPooling2D(pool_size=(2, 2)))"
      ]
    },
    {
      "cell_type": "code",
      "execution_count": 21,
      "metadata": {
        "id": "pIwILd0I4h5_"
      },
      "outputs": [],
      "source": [
        "#卷積層3與池化層3"
      ]
    },
    {
      "cell_type": "code",
      "execution_count": 22,
      "metadata": {
        "id": "8gJ1kUj14h5_"
      },
      "outputs": [],
      "source": [
        "model.add(Conv2D(filters=128, kernel_size=(3, 3), \n",
        "                 activation='relu', padding='same'))\n",
        "model.add(MaxPooling2D(pool_size=(2, 2)))"
      ]
    },
    {
      "cell_type": "code",
      "execution_count": 23,
      "metadata": {
        "id": "rIR6FW6_4h6A"
      },
      "outputs": [],
      "source": [
        "#卷積層4與池化層4"
      ]
    },
    {
      "cell_type": "code",
      "execution_count": 24,
      "metadata": {
        "id": "AFqnGUfH4h6A"
      },
      "outputs": [],
      "source": [
        "model.add(Conv2D(filters=256, kernel_size=(3, 3), \n",
        "                 activation='relu', padding='same'))\n",
        "model.add(MaxPooling2D(pool_size=(2, 2)))"
      ]
    },
    {
      "cell_type": "code",
      "execution_count": 25,
      "metadata": {
        "id": "p-kwwtQg4h6B"
      },
      "outputs": [],
      "source": [
        "#建立神經網路(平坦層、隱藏層、輸出層)\n",
        "model.add(Flatten())\n"
      ]
    },
    {
      "cell_type": "code",
      "execution_count": 26,
      "metadata": {
        "id": "7BRQd_tB4h6B"
      },
      "outputs": [],
      "source": [
        "#建立全網路連接層\n",
        "#model.add(Dense(512, activation='relu'))\n",
        "model.add(Dense(512, activation='relu'))"
      ]
    },
    {
      "cell_type": "code",
      "execution_count": 27,
      "metadata": {
        "id": "xsGy7Ljt4h6B"
      },
      "outputs": [],
      "source": [
        "#建立輸出層\n",
        "model.add(Dense(10, activation='softmax'))"
      ]
    },
    {
      "cell_type": "code",
      "execution_count": 28,
      "metadata": {
        "colab": {
          "base_uri": "https://localhost:8080/"
        },
        "id": "NgdsDDMf4h6C",
        "outputId": "b674e2f3-ba97-433a-e4bf-e46bddcb7147"
      },
      "outputs": [
        {
          "output_type": "stream",
          "name": "stdout",
          "text": [
            "Model: \"sequential\"\n",
            "_________________________________________________________________\n",
            " Layer (type)                Output Shape              Param #   \n",
            "=================================================================\n",
            " conv2d (Conv2D)             (None, 32, 32, 32)        896       \n",
            "                                                                 \n",
            " max_pooling2d (MaxPooling2D  (None, 16, 16, 32)       0         \n",
            " )                                                               \n",
            "                                                                 \n",
            " conv2d_1 (Conv2D)           (None, 16, 16, 64)        18496     \n",
            "                                                                 \n",
            " max_pooling2d_1 (MaxPooling  (None, 8, 8, 64)         0         \n",
            " 2D)                                                             \n",
            "                                                                 \n",
            " conv2d_2 (Conv2D)           (None, 8, 8, 128)         73856     \n",
            "                                                                 \n",
            " max_pooling2d_2 (MaxPooling  (None, 4, 4, 128)        0         \n",
            " 2D)                                                             \n",
            "                                                                 \n",
            " conv2d_3 (Conv2D)           (None, 4, 4, 256)         295168    \n",
            "                                                                 \n",
            " max_pooling2d_3 (MaxPooling  (None, 2, 2, 256)        0         \n",
            " 2D)                                                             \n",
            "                                                                 \n",
            " flatten (Flatten)           (None, 1024)              0         \n",
            "                                                                 \n",
            " dense (Dense)               (None, 512)               524800    \n",
            "                                                                 \n",
            " dense_1 (Dense)             (None, 10)                5130      \n",
            "                                                                 \n",
            "=================================================================\n",
            "Total params: 918,346\n",
            "Trainable params: 918,346\n",
            "Non-trainable params: 0\n",
            "_________________________________________________________________\n",
            "None\n"
          ]
        }
      ],
      "source": [
        "#檢查model 的STACK\n",
        "print(model.summary())"
      ]
    },
    {
      "cell_type": "markdown",
      "metadata": {
        "id": "Lp3rRusN4h6C"
      },
      "source": [
        "# 載入之前訓練的模型"
      ]
    },
    {
      "cell_type": "code",
      "execution_count": 29,
      "metadata": {
        "colab": {
          "base_uri": "https://localhost:8080/"
        },
        "id": "sEJYiBg94h6D",
        "outputId": "174bc412-33be-4299-f111-00b6d729ca53"
      },
      "outputs": [
        {
          "output_type": "stream",
          "name": "stdout",
          "text": [
            "載入模型失敗!開始訓練一個新模型\n"
          ]
        }
      ],
      "source": [
        "try:\n",
        "    model.load_weights(\"SaveModel/cifarCnnModel.h5\")\n",
        "    print(\"載入模型成功!繼續訓練模型\")\n",
        "except :    \n",
        "    print(\"載入模型失敗!開始訓練一個新模型\")"
      ]
    },
    {
      "cell_type": "markdown",
      "metadata": {
        "id": "1KpMfVqh4h6D"
      },
      "source": [
        "# 訓練模型"
      ]
    },
    {
      "cell_type": "code",
      "execution_count": 30,
      "metadata": {
        "id": "GYKGGbbx4h6D"
      },
      "outputs": [],
      "source": [
        "#模型編譯\n",
        "model.compile(loss='categorical_crossentropy', optimizer='Adam', metrics=['accuracy'])"
      ]
    },
    {
      "cell_type": "code",
      "execution_count": 31,
      "metadata": {
        "scrolled": true,
        "colab": {
          "base_uri": "https://localhost:8080/"
        },
        "id": "2r70-bXB4h6D",
        "outputId": "51187d83-1957-4937-ca60-dc9d95dd6149"
      },
      "outputs": [
        {
          "output_type": "stream",
          "name": "stdout",
          "text": [
            "Epoch 1/12\n",
            "586/586 [==============================] - 135s 229ms/step - loss: 1.5262 - accuracy: 0.4381 - val_loss: 1.2062 - val_accuracy: 0.5567\n",
            "Epoch 2/12\n",
            "586/586 [==============================] - 132s 225ms/step - loss: 1.0546 - accuracy: 0.6238 - val_loss: 0.9484 - val_accuracy: 0.6742\n",
            "Epoch 3/12\n",
            "586/586 [==============================] - 130s 222ms/step - loss: 0.8450 - accuracy: 0.7011 - val_loss: 0.8493 - val_accuracy: 0.7063\n",
            "Epoch 4/12\n",
            "586/586 [==============================] - 131s 223ms/step - loss: 0.6999 - accuracy: 0.7548 - val_loss: 0.8013 - val_accuracy: 0.7270\n",
            "Epoch 5/12\n",
            "586/586 [==============================] - 130s 222ms/step - loss: 0.5828 - accuracy: 0.7951 - val_loss: 0.7915 - val_accuracy: 0.7364\n",
            "Epoch 6/12\n",
            "586/586 [==============================] - 130s 222ms/step - loss: 0.4829 - accuracy: 0.8298 - val_loss: 0.8000 - val_accuracy: 0.7399\n",
            "Epoch 7/12\n",
            "586/586 [==============================] - 130s 222ms/step - loss: 0.3823 - accuracy: 0.8664 - val_loss: 0.8692 - val_accuracy: 0.7339\n",
            "Epoch 8/12\n",
            "586/586 [==============================] - 131s 224ms/step - loss: 0.2981 - accuracy: 0.8947 - val_loss: 0.9212 - val_accuracy: 0.7356\n",
            "Epoch 9/12\n",
            "586/586 [==============================] - 130s 222ms/step - loss: 0.2325 - accuracy: 0.9160 - val_loss: 1.0736 - val_accuracy: 0.7313\n",
            "Epoch 10/12\n",
            "586/586 [==============================] - 132s 225ms/step - loss: 0.1818 - accuracy: 0.9365 - val_loss: 1.2369 - val_accuracy: 0.7240\n",
            "Epoch 11/12\n",
            "586/586 [==============================] - 131s 223ms/step - loss: 0.1540 - accuracy: 0.9464 - val_loss: 1.2133 - val_accuracy: 0.7348\n",
            "Epoch 12/12\n",
            "586/586 [==============================] - 131s 224ms/step - loss: 0.1357 - accuracy: 0.9518 - val_loss: 1.3253 - val_accuracy: 0.7339\n"
          ]
        }
      ],
      "source": [
        "#模型訓練, \"Train_History\" 把訓練過程所得到的數值存起來\n",
        "train_history=model.fit(x_img_train_normalize, y_label_train_OneHot,\n",
        "                        validation_split=0.25,\n",
        "                        epochs=12, batch_size=64, verbose=1)         \n",
        "\n",
        "#[validation_split = 0.2] validation_split：在0和1之間浮動。用作驗證數據的訓練數據的分數。\n",
        "#該模型將訓練數據的這一部分分開，不會對其進行訓練，並將在每個時期結束時評估該數據的損失和任何模型指標。\n",
        "#[batch_size]：整數或None。每個梯度更新的樣本數。指定，batch_size為128"
      ]
    },
    {
      "cell_type": "code",
      "execution_count": 32,
      "metadata": {
        "id": "wMRTe-7A4h6E"
      },
      "outputs": [],
      "source": [
        "import matplotlib.pyplot as plt\n",
        "%matplotlib inline\n",
        "\n",
        "#定義一個繪圖函數\n",
        "def show_train_history(train_acc,test_acc):\n",
        "    plt.plot(train_history.history[train_acc])\n",
        "    plt.plot(train_history.history[test_acc])\n",
        "    plt.title('Train History')\n",
        "    plt.ylabel('Accuracy')\n",
        "    plt.xlabel('Epoch')\n",
        "    plt.legend(['train_acc', 'val_acc'], loc='upper left')\n",
        "    plt.show()"
      ]
    },
    {
      "cell_type": "code",
      "execution_count": 35,
      "metadata": {
        "colab": {
          "base_uri": "https://localhost:8080/",
          "height": 295
        },
        "id": "JneLwy5-4h6E",
        "outputId": "007982b7-cfb3-469e-87b5-bce31d0f1469"
      },
      "outputs": [
        {
          "output_type": "display_data",
          "data": {
            "text/plain": [
              "<Figure size 432x288 with 1 Axes>"
            ],
            "image/png": "[encoded data removed]"
          },
          "metadata": {
            "needs_background": "light"
          }
        }
      ],
      "source": [
        "show_train_history('accuracy','val_accuracy')"
      ]
    },
    {
      "cell_type": "code",
      "execution_count": 36,
      "metadata": {
        "colab": {
          "base_uri": "https://localhost:8080/"
        },
        "id": "gyaMPJ-E4h6E",
        "outputId": "7988c4c8-2be6-4cb0-909e-f13ce270c335"
      },
      "outputs": [
        {
          "output_type": "stream",
          "name": "stdout",
          "text": [
            "Python 3.7.13\n"
          ]
        }
      ],
      "source": [
        "!python -V"
      ]
    },
    {
      "cell_type": "code",
      "execution_count": null,
      "metadata": {
        "id": "uyR87kV94h6F"
      },
      "outputs": [],
      "source": [
        ""
      ]
    }
  ],
  "metadata": {
    "anaconda-cloud": {},
    "kernelspec": {
      "display_name": "Python 3 (ipykernel)",
      "language": "python",
      "name": "python3"
    },
    "language_info": {
      "codemirror_mode": {
        "name": "ipython",
        "version": 3
      },
      "file_extension": ".py",
      "mimetype": "text/x-python",
      "name": "python",
      "nbconvert_exporter": "python",
      "pygments_lexer": "ipython3",
      "version": "3.9.12"
    },
    "colab": {
      "name": "Day_71-使用損失函數.ipynb",
      "provenance": []
    }
  },
  "nbformat": 4,
  "nbformat_minor": 0
}