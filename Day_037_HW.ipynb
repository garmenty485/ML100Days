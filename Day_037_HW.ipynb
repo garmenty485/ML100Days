{
 "cells": [
  {
   "cell_type": "markdown",
   "metadata": {},
   "source": [
    "## [作業重點]\n",
    "了解線性回歸的模型發展歷程，並了解優勢與劣勢，以及其使用情境"
   ]
  },
  {
   "cell_type": "markdown",
   "metadata": {},
   "source": [
    "## 作業"
   ]
  },
  {
   "cell_type": "markdown",
   "metadata": {},
   "source": [
    "請閱讀以下相關文獻，並回答以下問題\n",
    "\n",
    "[Linear Regression 詳細介紹](https://brohrer.mcknote.com/zh-Hant/how_machine_learning_works/how_linear_regression_works.html)\n",
    "\n",
    "[Logistics Regression 詳細介紹](https://medium.com/@yehjames/%E8%B3%87%E6%96%99%E5%88%86%E6%9E%90-%E6%A9%9F%E5%99%A8%E5%AD%B8%E7%BF%92-%E7%AC%AC3-3%E8%AC%9B-%E7%B7%9A%E6%80%A7%E5%88%86%E9%A1%9E-%E9%82%8F%E8%BC%AF%E6%96%AF%E5%9B%9E%E6%AD%B8-logistic-regression-%E4%BB%8B%E7%B4%B9-a1a5f47017e5)\n"
   ]
  },
  {
   "cell_type": "markdown",
   "metadata": {},
   "source": [
    "1. 線性回歸模型能夠準確預測非線性關係的資料集嗎?\n",
    "\n",
    "Ａ：不能，因為線性回歸模型的假設其一，就是Ｘ與Ｙ有線性關係（Ｘ影響Ｙ，且其影響符合線性與相加性）\n",
    "2. 回歸模型是否對資料分布有基本假設?\n",
    "Ａ：\n",
    "\n",
    "１．在依賴（響應）變量和獨立（預測變量）變量之間應該存在線性和相加關係。線性關係表明，無論X 1的值如何，由於X 1的一個單位變化引起的響應Y的變化是恆定的。加性關係表明X 1對Y的影響與其他變量無關。\n",
    "\n",
    "２．殘差（誤差）項之間沒有相關性。即沒有自相關。\n",
    "\n",
    "３．自變量間彼此獨立。沒有共線性。\n",
    "\n",
    "４．誤差符合常態分布。\n",
    "\n",
    "５．承４，其分布之變異數相等。（分布的形狀相等，即同方差性）\n"
   ]
  }
 ],
 "metadata": {
  "kernelspec": {
   "display_name": "Python 3",
   "language": "python",
   "name": "python3"
  },
  "language_info": {
   "codemirror_mode": {
    "name": "ipython",
    "version": 3
   },
   "file_extension": ".py",
   "mimetype": "text/x-python",
   "name": "python",
   "nbconvert_exporter": "python",
   "pygments_lexer": "ipython3",
   "version": "3.8.3"
  }
 },
 "nbformat": 4,
 "nbformat_minor": 2
}
